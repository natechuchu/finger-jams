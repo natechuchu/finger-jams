{
 "cells": [
  {
   "cell_type": "markdown",
   "id": "8216b90d",
   "metadata": {},
   "source": [
    "# Gesture Model Exploration\n",
    "In this notebook, I will be training a fully connected deep neural network to classify differente hand gestures."
   ]
  },
  {
   "cell_type": "code",
   "execution_count": 1,
   "id": "a502af73",
   "metadata": {},
   "outputs": [],
   "source": [
    "import numpy as np\n",
    "import pandas as pd\n",
    "import tensorflow as tf\n",
    "from tensorflow import keras\n",
    "from tensorflow.keras import models, layers, utils\n",
    "from tensorflow.keras.models import Sequential \n",
    "from tensorflow.keras.layers import Dense, Input \n",
    "from tensorflow.keras.utils import to_categorical \n",
    "from sklearn.model_selection import train_test_split\n",
    "\n",
    "FILE_PATH = \"C:/Users/natec/Documents/Coding/finger-jams/datasets\""
   ]
  },
  {
   "cell_type": "markdown",
   "id": "5d93e4bb",
   "metadata": {},
   "source": [
    "## Binary Classifier\n",
    "\n",
    "We will start small by training a binary classifier to recognize the first hand gesture (one finger pointing up). Lets load our preprocessed data and check the shape."
   ]
  },
  {
   "cell_type": "code",
   "execution_count": 3,
   "id": "29bf76f9",
   "metadata": {},
   "outputs": [
    {
     "name": "stdout",
     "output_type": "stream",
     "text": [
      "X1 shape: (100, 21, 3)\n",
      "y1 shape: (100,)\n",
      "X0 shape: (100, 21, 3)\n",
      "y0 shape: (100,)\n",
      "X shape: (200, 21, 3)\n",
      "y shape: (200,)\n"
     ]
    }
   ],
   "source": [
    "# Load Data\n",
    "# Load class 1 data\n",
    "data_pos_1 = np.load(f\"{FILE_PATH}/processed/pos_1_data_processed.npz\")\n",
    "X1 = data_pos_1['coords']\n",
    "y1 = data_pos_1['labels']\n",
    "print(f\"X1 shape: {X1.shape}\")\n",
    "print(f\"y1 shape: {y1.shape}\")\n",
    "\n",
    "# Load class 0 data\n",
    "data_pos_0 = np.load(f\"{FILE_PATH}/processed/pos_0_data_processed.npz\")\n",
    "X0 = data_pos_0['coords']\n",
    "y0 = data_pos_0['labels']\n",
    "print(f\"X0 shape: {X0.shape}\")\n",
    "print(f\"y0 shape: {y0.shape}\")\n",
    "\n",
    "# Concatenate\n",
    "X = np.concatenate([X1, X0], axis=0)\n",
    "y = np.concatenate([y1, y0], axis=0)\n",
    "print(f\"X shape: {X.shape}\")\n",
    "print(f\"y shape: {y.shape}\")\n"
   ]
  },
  {
   "cell_type": "markdown",
   "id": "65d8ca8c",
   "metadata": {},
   "source": [
    "Our results add up. I took 100 samples for class one and 100 samples for class zero, which is the class containing all other gestures that aren't recognized. Each sample is 21 x 3 because there are 21 hand landmarks, each with a x-y-z value. Also, the y shape should be equal to the number of samples and should be a vector, because it only contains the labels for each sampel. To train our neural network, we must reshape each sample from a matrix into a vector. The result should be 200 x 63. "
   ]
  },
  {
   "cell_type": "code",
   "execution_count": null,
   "id": "2e822e57",
   "metadata": {},
   "outputs": [],
   "source": [
    "# Reshape Data\n",
    "X = X.reshape((X.shape[0], -1))\n",
    "print(f\"X new shape: {X.shape}\")"
   ]
  },
  {
   "cell_type": "markdown",
   "id": "13993f9f",
   "metadata": {},
   "source": [
    "This looks good. Lets split the dataset into training and testing sets"
   ]
  },
  {
   "cell_type": "code",
   "execution_count": null,
   "id": "7f526d44",
   "metadata": {},
   "outputs": [],
   "source": [
    "# Split Data\n",
    "X_train, X_test, y_train, y_test = train_test_split(X, y, test_size=0.2, random_state=42)"
   ]
  },
  {
   "cell_type": "markdown",
   "id": "3a656ff2",
   "metadata": {},
   "source": [
    "We'll start with a three layer neural network and use sigmoid as the last activation function. This will give us a probability that the sample is class one or not."
   ]
  },
  {
   "cell_type": "code",
   "execution_count": null,
   "id": "9054db5d",
   "metadata": {},
   "outputs": [],
   "source": [
    "model = keras.Sequential([\n",
    "    layers.Dense(128, input_shape=(63,), activation='relu'),\n",
    "    layers.Dense(64, activation='relu'),\n",
    "    layers.Dense(32, activation='relu'),\n",
    "    layers.Dense(1, activation='sigmoid'),\n",
    "])\n",
    "model.compile(\n",
    "    optimizer='adam',\n",
    "    loss='binary_crossentropy',\n",
    "    metrics=['binary_accuracy'],\n",
    ")"
   ]
  },
  {
   "cell_type": "code",
   "execution_count": null,
   "id": "2529d9b8",
   "metadata": {},
   "outputs": [],
   "source": [
    "my_model = model.fit(\n",
    "    X_train, y_train,\n",
    "    validation_data=(X_test, y_test),\n",
    "    batch_size=50,\n",
    "    epochs=40\n",
    ")\n",
    "\n",
    "my_model_df = pd.DataFrame(my_model.history)\n",
    "my_model_df.loc[:,['loss','val_loss']].plot(title=\"Cross-entropy\")\n",
    "my_model_df.loc[:, ['binary_accuracy','val_binary_accuracy']].plot(title=\"Accuracy\")"
   ]
  },
  {
   "cell_type": "code",
   "execution_count": null,
   "id": "a88f723c",
   "metadata": {},
   "outputs": [],
   "source": [
    "model.save('hand_gesture_model_2.keras')"
   ]
  },
  {
   "cell_type": "markdown",
   "id": "99f5be0f",
   "metadata": {},
   "source": [
    "### Results\n",
    "After testing the model, I can say that it works very well. There are some slight improvements to be made though. When I point my middle finger left or right, the accuracy seems to be less. I need to add a normalization to the alignment. "
   ]
  },
  {
   "cell_type": "code",
   "execution_count": null,
   "id": "c1a7dc94",
   "metadata": {},
   "outputs": [],
   "source": [
    "sample = pd.DataFrame(X1[45], columns = ['x','y','z'])\n",
    "\n",
    "print(sample)"
   ]
  },
  {
   "cell_type": "markdown",
   "id": "3def7d30",
   "metadata": {},
   "source": [
    "## Recognizing Three Classes\n",
    "Lets add one more class and use the softmax activation function to classify with three gestures now!"
   ]
  },
  {
   "cell_type": "code",
   "execution_count": null,
   "id": "46f39da7",
   "metadata": {},
   "outputs": [],
   "source": [
    "# Lets try three classes now and add in the peace sign\n",
    "data_pos_2 = np.load(f\"{FILE_PATH}/processed/pos_2_data_processed.npz\")\n",
    "X2 = data_pos_2['coords']\n",
    "y2 = data_pos_2['labels']\n",
    "print(f\"X2 shape: {X2.shape}\")\n",
    "print(f\"y2 shape: {y2.shape}\")\n",
    "# Concatenate\n",
    "X = np.concatenate([X0, X1, X2], axis=0)\n",
    "y = np.concatenate([y0, y1, y2], axis=0)\n",
    "print(f\"X shape: {X.shape}\")\n",
    "print(f\"y shape: {y.shape}\")"
   ]
  },
  {
   "cell_type": "code",
   "execution_count": null,
   "id": "c3b1a9de",
   "metadata": {},
   "outputs": [],
   "source": [
    "# Reshape Data\n",
    "X = X.reshape((X.shape[0], -1))\n",
    "print(f\"X new shape: {X.shape}\")"
   ]
  },
  {
   "cell_type": "code",
   "execution_count": null,
   "id": "4ff8ed27",
   "metadata": {},
   "outputs": [],
   "source": [
    "# Split Data\n",
    "X_train, X_test, y_train, y_test = train_test_split(X, y, test_size=0.2, random_state=42)"
   ]
  },
  {
   "cell_type": "code",
   "execution_count": null,
   "id": "7003063f",
   "metadata": {},
   "outputs": [],
   "source": [
    "model_2 = keras.Sequential([\n",
    "    layers.Dense(128, input_shape=(63,), activation='relu'),\n",
    "    layers.Dense(64, activation='relu'),\n",
    "    layers.Dense(32, activation='relu'),\n",
    "    layers.Dense(3, activation='softmax'),\n",
    "])\n",
    "model_2.compile(\n",
    "    optimizer='adam',\n",
    "    loss='sparse_categorical_crossentropy',\n",
    "    metrics=['accuracy'],\n",
    ")"
   ]
  },
  {
   "cell_type": "code",
   "execution_count": null,
   "id": "b9ad110e",
   "metadata": {},
   "outputs": [],
   "source": [
    "my_model_2 = model_2.fit(\n",
    "    X_train, y_train,\n",
    "    validation_data=(X_test, y_test),\n",
    "    batch_size=50,\n",
    "    epochs=40\n",
    ")\n",
    "\n",
    "my_model_df = pd.DataFrame(my_model_2.history)\n",
    "my_model_df.loc[:,['loss','val_loss']].plot(title=\"Cross-entropy\")\n",
    "my_model_df.loc[:, ['accuracy','val_accuracy']].plot(title=\"Accuracy\")"
   ]
  },
  {
   "cell_type": "code",
   "execution_count": null,
   "id": "df0d3614",
   "metadata": {},
   "outputs": [],
   "source": [
    "print(X_test[0].shape)"
   ]
  },
  {
   "cell_type": "code",
   "execution_count": null,
   "id": "6ce3003e",
   "metadata": {},
   "outputs": [],
   "source": [
    "sample = X_test[0].reshape(1,-1)\n",
    "prediction = model_2.predict(sample)\n",
    "print(prediction)"
   ]
  },
  {
   "cell_type": "code",
   "execution_count": null,
   "id": "0f72ae1d",
   "metadata": {},
   "outputs": [],
   "source": [
    "model_2.save('hand_gesture_model_2.keras')"
   ]
  },
  {
   "cell_type": "markdown",
   "id": "760dca29",
   "metadata": {},
   "source": [
    "### Results\n",
    "Again, this model trained very well! I tested the classifier with the live feed and it seemed to pick up changes very quickly. I still am facing the issue when I tilt my hand sideways though... Lets try and add all the classes first though!\n",
    "\n",
    "## Adding all the classes"
   ]
  },
  {
   "cell_type": "code",
   "execution_count": null,
   "id": "d52c8cb8",
   "metadata": {},
   "outputs": [],
   "source": [
    "X_list = []\n",
    "y_list = []\n",
    "for i in range(8):\n",
    "    data = np.load(f\"{FILE_PATH}/processed/pos_{i}_data_processed.npz\")\n",
    "    X_list.append(data['coords'])\n",
    "    y_list.append(data['labels'])\n",
    "X = np.concatenate(X_list, axis=0)\n",
    "y = np.concatenate(y_list, axis=0)\n",
    "print(f\"X shape: {X.shape}\")\n",
    "print(f\"y shape: {y.shape}\")"
   ]
  },
  {
   "cell_type": "code",
   "execution_count": null,
   "id": "d070ec01",
   "metadata": {},
   "outputs": [],
   "source": [
    "# Reshape Data\n",
    "X = X.reshape((X.shape[0], -1))\n",
    "print(f\"X new shape: {X.shape}\")"
   ]
  },
  {
   "cell_type": "code",
   "execution_count": null,
   "id": "0a32bc6a",
   "metadata": {},
   "outputs": [],
   "source": [
    "# Split Data\n",
    "X_train, X_test, y_train, y_test = train_test_split(X, y, test_size=0.2, random_state=42)"
   ]
  },
  {
   "cell_type": "code",
   "execution_count": null,
   "id": "8994a0b4",
   "metadata": {},
   "outputs": [],
   "source": [
    "model_3 = keras.Sequential([\n",
    "    layers.Dense(128, input_shape=(63,), activation='relu'),\n",
    "    layers.Dense(64, activation='relu'),\n",
    "    layers.Dense(32, activation='relu'),\n",
    "    layers.Dense(8, activation='softmax'),\n",
    "])\n",
    "model_3.compile(\n",
    "    optimizer='adam',\n",
    "    loss='sparse_categorical_crossentropy',\n",
    "    metrics=['accuracy'],\n",
    ")"
   ]
  },
  {
   "cell_type": "code",
   "execution_count": null,
   "id": "0a630f89",
   "metadata": {},
   "outputs": [],
   "source": [
    "my_model_3 = model_3.fit(\n",
    "    X, y,\n",
    "    batch_size=50,\n",
    "    epochs=40\n",
    ")\n",
    "\n",
    "my_model_df = pd.DataFrame(my_model_3.history)\n",
    "my_model_df.loc[:,['loss']].plot(title=\"Cross-entropy\")\n",
    "my_model_df.loc[:,['accuracy']].plot(title=\"Accuracy\")"
   ]
  },
  {
   "cell_type": "code",
   "execution_count": null,
   "id": "d841dc80",
   "metadata": {},
   "outputs": [],
   "source": [
    "model_3.save('hand_gesture_model_3.keras')"
   ]
  },
  {
   "cell_type": "markdown",
   "id": "fc791b2c",
   "metadata": {},
   "source": [
    "### Results\n",
    "This one turned out to be much more problematic. The model overfit way too much. For example, it only recognized a 5 if I stretch my thumb as far as I can, and it only recognized a four if I spread my fingers as far apart as I could. It really only successfully recognized three classes. "
   ]
  },
  {
   "cell_type": "markdown",
   "id": "17e69a52",
   "metadata": {},
   "source": [
    "## Generalizing the model\n",
    "I need to generalize the model more to prevent it from memorizing the training data. Lets try the following solutions: collect more data, reduce the size of the network, add early callback, and add dropout.\n",
    "\n",
    "We'll also create a function to load the files quickly and then add 300 more samples to each class"
   ]
  },
  {
   "cell_type": "code",
   "execution_count": null,
   "id": "a839b551",
   "metadata": {},
   "outputs": [],
   "source": [
    "def load_data(files):\n",
    "    X_list = []\n",
    "    y_list = []\n",
    "    for file in files:\n",
    "        data = np.load(f\"{FILE_PATH}/processed/{file}.npz\")\n",
    "        X_list.append(data['coords'])\n",
    "        y_list.append(data['labels'])\n",
    "        print(f\"{file} length: {len(data['labels'])}\")\n",
    "        print(f\"label: {data['labels'][0]}\")\n",
    "    X = np.concatenate(X_list, axis=0)\n",
    "    y = np.concatenate(y_list, axis=0)\n",
    "    return X, y"
   ]
  },
  {
   "cell_type": "code",
   "execution_count": null,
   "id": "8b937ade",
   "metadata": {},
   "outputs": [],
   "source": [
    "files = ['pos_0_data_processed', 'pos_0_data_1_processed', \n",
    "         'pos_1_data_processed', 'pos_1_data_1_processed',\n",
    "         'pos_2_data_processed', 'pos_2_data_1_processed',\n",
    "         'pos_3_data_processed', 'pos_3_data_1_processed',\n",
    "         'pos_4_data_processed', 'pos_4_data_1_processed',\n",
    "         'pos_5_data_processed', 'pos_5_data_1_processed',\n",
    "         'pos_6_data_processed', 'pos_6_data_1_processed',\n",
    "         'pos_7_data_processed', 'pos_7_data_1_processed']"
   ]
  },
  {
   "cell_type": "code",
   "execution_count": null,
   "id": "b6bf9c37",
   "metadata": {},
   "outputs": [],
   "source": [
    "X, y = load_data(files)\n",
    "print(f\"X shape: {X.shape}\")\n",
    "print(f\"y shape: {y.shape}\")\n",
    "X = X.reshape((X.shape[0], -1))\n",
    "print(f\"X new shape: {X.shape}\")"
   ]
  },
  {
   "cell_type": "code",
   "execution_count": null,
   "id": "03627005",
   "metadata": {},
   "outputs": [],
   "source": [
    "\n",
    "# Split Data\n",
    "X_train, X_test, y_train, y_test = train_test_split(X, y, test_size=0.2, random_state=42)\n",
    "model_4 = keras.Sequential([\n",
    "    layers.Dense(64, input_shape=(63,), activation='relu'),\n",
    "    layers.Dropout(0.3),\n",
    "    layers.Dense(32, activation='relu'),\n",
    "    layers.Dropout(0.3),\n",
    "    layers.Dense(8, activation='softmax'),\n",
    "])\n",
    "model_4.compile(\n",
    "    optimizer='adam',\n",
    "    loss='sparse_categorical_crossentropy',\n",
    "    metrics=['accuracy'],\n",
    ")\n",
    "callback = keras.callbacks.EarlyStopping(monitor='val_loss', patience=5, restore_best_weights=True)"
   ]
  },
  {
   "cell_type": "code",
   "execution_count": null,
   "id": "695df1cd",
   "metadata": {},
   "outputs": [],
   "source": [
    "my_model_4 = model_4.fit(\n",
    "    X_train, y_train,\n",
    "    validation_data = (X_test,y_test),\n",
    "    epochs=100,\n",
    "    batch_size = 40,\n",
    "    callbacks=[callback]\n",
    ")\n",
    "\n",
    "my_model_df = pd.DataFrame(my_model_4.history)\n",
    "my_model_df.loc[:,['loss']].plot(title=\"Cross-entropy\")\n",
    "my_model_df.loc[:,['accuracy']].plot(title=\"Accuracy\")"
   ]
  },
  {
   "cell_type": "code",
   "execution_count": null,
   "id": "fcb3856d",
   "metadata": {},
   "outputs": [],
   "source": [
    "model_4.save('hand_gesture_model_4.keras')"
   ]
  },
  {
   "cell_type": "code",
   "execution_count": null,
   "id": "5ad4bfb5",
   "metadata": {},
   "outputs": [],
   "source": [
    "X, y = load_data(files[:10])\n",
    "print(f\"X shape: {X.shape}\")\n",
    "print(f\"y shape: {y.shape}\")\n",
    "X = X.reshape((X.shape[0], -1))\n",
    "print(f\"X new shape: {X.shape}\")"
   ]
  },
  {
   "cell_type": "markdown",
   "id": "63519de6",
   "metadata": {},
   "source": [
    "### Results\n",
    "This model still had many problems, but it was better. It seems like its still having trouble distinguishing between similar classes such as 4 and 5 or 6 and 7. Lets add 300 more samples to each class for a total of 100 + 300 + 300 = 700 samples\n",
    "\n",
    "## Adding More Training Data"
   ]
  },
  {
   "cell_type": "code",
   "execution_count": null,
   "id": "9ce6c237",
   "metadata": {},
   "outputs": [],
   "source": [
    "# Split Data\n",
    "X_train, X_test, y_train, y_test = train_test_split(X, y, test_size=0.2, random_state=42)\n",
    "model_5 = keras.Sequential([\n",
    "    layers.Dense(64, input_shape=(63,), activation='relu'),\n",
    "    layers.Dropout(0.3),\n",
    "    layers.Dense(32, activation='relu'),\n",
    "    layers.Dropout(0.3),\n",
    "    layers.Dense(5, activation='softmax'),\n",
    "])\n",
    "model_5.compile(\n",
    "    optimizer='adam',\n",
    "    loss='sparse_categorical_crossentropy',\n",
    "    metrics=['accuracy'],\n",
    ")\n",
    "callback = keras.callbacks.EarlyStopping(monitor='val_loss', patience=5, restore_best_weights=True)"
   ]
  },
  {
   "cell_type": "code",
   "execution_count": null,
   "id": "1b1791d1",
   "metadata": {},
   "outputs": [],
   "source": [
    "my_model_5 = model_5.fit(\n",
    "    X_train, y_train,\n",
    "    validation_data = (X_test,y_test),\n",
    "    epochs=100,\n",
    "    batch_size = 40,\n",
    "    callbacks=[callback]\n",
    ")\n",
    "\n",
    "my_model_df = pd.DataFrame(my_model_5.history)\n",
    "my_model_df.loc[:,['loss']].plot(title=\"Cross-entropy\")\n",
    "my_model_df.loc[:,['accuracy']].plot(title=\"Accuracy\")"
   ]
  },
  {
   "cell_type": "code",
   "execution_count": null,
   "id": "c3acb01e",
   "metadata": {},
   "outputs": [],
   "source": [
    "model_5.save('hand_gesture_model_5.keras')"
   ]
  },
  {
   "cell_type": "code",
   "execution_count": null,
   "id": "eccc235e",
   "metadata": {},
   "outputs": [],
   "source": [
    "files = ['pos_0_data_processed', 'pos_0_data_1_processed',\n",
    "         'pos_1_data_processed', 'pos_1_data_1_processed', 'pos_1_data_2_processed',\n",
    "         'pos_2_data_processed', 'pos_2_data_1_processed', 'pos_2_data_2_processed',\n",
    "         'pos_3_data_processed', 'pos_3_data_1_processed', 'pos_3_data_2_processed',\n",
    "         'pos_4_data_processed', 'pos_4_data_1_processed', 'pos_4_data_2_processed',\n",
    "         'pos_5_data_processed', 'pos_5_data_1_processed', 'pos_5_data_2_processed',\n",
    "         'pos_6_data_processed', 'pos_6_data_1_processed', 'pos_6_data_2_processed',\n",
    "         'pos_7_data_processed', 'pos_7_data_1_processed', 'pos_7_data_2_processed']"
   ]
  },
  {
   "cell_type": "code",
   "execution_count": null,
   "id": "9121b768",
   "metadata": {},
   "outputs": [],
   "source": [
    "X, y = load_data(files)\n",
    "print(f\"X shape: {X.shape}\")\n",
    "print(f\"y shape: {y.shape}\")\n",
    "X = X.reshape((X.shape[0], -1))\n",
    "print(f\"X new shape: {X.shape}\")"
   ]
  },
  {
   "cell_type": "code",
   "execution_count": null,
   "id": "a0c5845e",
   "metadata": {},
   "outputs": [],
   "source": [
    "# Split Data\n",
    "X_train, X_test, y_train, y_test = train_test_split(X, y, test_size=0.2, random_state=42)\n",
    "model_6 = keras.Sequential([\n",
    "    layers.Dense(64, input_shape=(63,), activation='relu'),\n",
    "    layers.Dropout(0.3),\n",
    "    layers.Dense(32, activation='relu'),\n",
    "    layers.Dropout(0.3),\n",
    "    layers.Dense(8, activation='softmax'),\n",
    "])\n",
    "model_6.compile(\n",
    "    optimizer='adam',\n",
    "    loss='sparse_categorical_crossentropy',\n",
    "    metrics=['accuracy'],\n",
    ")\n",
    "callback = keras.callbacks.EarlyStopping(monitor='val_loss', patience=5, restore_best_weights=True)"
   ]
  },
  {
   "cell_type": "code",
   "execution_count": null,
   "id": "9ad81232",
   "metadata": {},
   "outputs": [],
   "source": [
    "my_model_6 = model_6.fit(\n",
    "    X_train, y_train,\n",
    "    validation_data = (X_test,y_test),\n",
    "    epochs=100,\n",
    "    batch_size = 40,\n",
    "    callbacks=[callback]\n",
    ")\n",
    "\n",
    "my_model_df = pd.DataFrame(my_model_6.history)\n",
    "my_model_df.loc[:,['loss']].plot(title=\"Cross-entropy\")\n",
    "my_model_df.loc[:,['accuracy']].plot(title=\"Accuracy\")"
   ]
  },
  {
   "cell_type": "code",
   "execution_count": null,
   "id": "4e22dcda",
   "metadata": {},
   "outputs": [],
   "source": [
    "model_6.save('hand_gesture_model_6.keras')"
   ]
  },
  {
   "cell_type": "markdown",
   "id": "13dff5eb",
   "metadata": {},
   "source": [
    "## Results\n",
    "This model was a little better... but it still is far off from what I want it to be. It has the biggest trouble distinguishing between 6 and 7 because the only difference is the thumb being extended or tucked in. Lets add another thumb feature so that it can better distinguish the two classes. We can use the angle of the thumb as a feature!"
   ]
  },
  {
   "cell_type": "code",
   "execution_count": null,
   "id": "932f9193",
   "metadata": {},
   "outputs": [],
   "source": [
    "def load_data_with_angles(folder, files):\n",
    "    X_list = []\n",
    "    y_list = []\n",
    "    for file in files:\n",
    "        data = np.load(f\"{FILE_PATH}/{folder}/{file}.npz\")\n",
    "        \n",
    "        coords = data['coords']\n",
    "        angles = data['angles']\n",
    "\n",
    "        coords = coords.reshape(coords.shape[0], -1) # n, 63\n",
    "        X_data = np.concatenate([coords, angles], axis=1)\n",
    "\n",
    "\n",
    "        X_list.append(X_data)\n",
    "        y_list.append(data['labels'])\n",
    "        print(f\"{file} length: {len(data['labels'])}\")\n",
    "        print(f\"label: {data['labels'][0]}\")\n",
    "    X = np.concatenate(X_list, axis=0)\n",
    "    y = np.concatenate(y_list, axis=0)\n",
    "    return X, y"
   ]
  },
  {
   "cell_type": "markdown",
   "id": "ed677dc9",
   "metadata": {},
   "source": [
    "Lets add the new features with the thumb angle and see if this model performs better"
   ]
  },
  {
   "cell_type": "code",
   "execution_count": null,
   "id": "80ed6ffc",
   "metadata": {},
   "outputs": [],
   "source": [
    "files = ['pos_0_data_processed_with_angles', 'pos_0_data_1_processed_with_angles',\n",
    "         'pos_1_data_processed_with_angles', 'pos_1_data_1_processed_with_angles', 'pos_1_data_2_processed_with_angles',\n",
    "         'pos_2_data_processed_with_angles', 'pos_2_data_1_processed_with_angles', 'pos_2_data_2_processed_with_angles',\n",
    "         'pos_3_data_processed_with_angles', 'pos_3_data_1_processed_with_angles', 'pos_3_data_2_processed_with_angles',\n",
    "         'pos_4_data_processed_with_angles', 'pos_4_data_1_processed_with_angles', 'pos_4_data_2_processed_with_angles',\n",
    "         'pos_5_data_processed_with_angles', 'pos_5_data_1_processed_with_angles', 'pos_5_data_2_processed_with_angles',\n",
    "         'pos_6_data_processed_with_angles', 'pos_6_data_1_processed_with_angles', 'pos_6_data_2_processed_with_angles',\n",
    "         'pos_7_data_processed_with_angles', 'pos_7_data_1_processed_with_angles', 'pos_7_data_2_processed_with_angles']\n",
    "folder = 'processed_with_angles'\n"
   ]
  },
  {
   "cell_type": "code",
   "execution_count": null,
   "id": "7af4f508",
   "metadata": {},
   "outputs": [],
   "source": [
    "X, y = load_data_with_angles(folder, files)\n",
    "print(f\"X shape: {X.shape}\")\n",
    "print(f\"y shape: {y.shape}\")"
   ]
  },
  {
   "cell_type": "code",
   "execution_count": null,
   "id": "42d81992",
   "metadata": {},
   "outputs": [],
   "source": [
    "# Split Data\n",
    "X_train, X_test, y_train, y_test = train_test_split(X, y, test_size=0.2, random_state=42)\n",
    "model_7 = keras.Sequential([\n",
    "    layers.Dense(64, input_shape=(65,), activation='relu'),\n",
    "    layers.Dropout(0.3),\n",
    "    layers.Dense(32, activation='relu'),\n",
    "    layers.Dropout(0.3),\n",
    "    layers.Dense(8, activation='softmax'),\n",
    "])\n",
    "model_7.compile(\n",
    "    optimizer='adam',\n",
    "    loss='sparse_categorical_crossentropy',\n",
    "    metrics=['accuracy'],\n",
    ")\n",
    "callback = keras.callbacks.EarlyStopping(monitor='val_loss', patience=5, restore_best_weights=True)"
   ]
  },
  {
   "cell_type": "code",
   "execution_count": null,
   "id": "2a52d91d",
   "metadata": {},
   "outputs": [],
   "source": [
    "my_model_7 = model_7.fit(\n",
    "    X_train, y_train,\n",
    "    validation_data = (X_test,y_test),\n",
    "    epochs=100,\n",
    "    batch_size = 40,\n",
    "    callbacks=[callback]\n",
    ")\n",
    "\n",
    "my_model_df = pd.DataFrame(my_model_7.history)\n",
    "my_model_df.loc[:,['loss']].plot(title=\"Cross-entropy\")\n",
    "my_model_df.loc[:,['accuracy']].plot(title=\"Accuracy\")"
   ]
  },
  {
   "cell_type": "code",
   "execution_count": null,
   "id": "2a4a257e",
   "metadata": {},
   "outputs": [],
   "source": [
    "model_7.save('hand_gesture_model_7.keras')"
   ]
  },
  {
   "cell_type": "markdown",
   "id": "7a43c536",
   "metadata": {},
   "source": [
    "### Results\n",
    "My model is still very inaccurate. It is very suspicious that the testing data is recieving such high scores, yet it fails to recognize simple gestures on the live feed. There may be an issue with my preprocessing pipeline. Lets inspect it closely..."
   ]
  },
  {
   "cell_type": "code",
   "execution_count": null,
   "id": "f9c96459",
   "metadata": {},
   "outputs": [
    {
     "name": "stdout",
     "output_type": "stream",
     "text": [
      "[[ 0.00000000e+00  0.00000000e+00  0.00000000e+00  1.95497224e-01\n",
      "   9.12873229e-02  0.00000000e+00  3.72241408e-01  2.94937547e-01\n",
      "   2.97379612e-02  4.27925846e-01  5.37120260e-01  9.70269234e-02\n",
      "   3.37557183e-01  7.61651673e-01  2.03982894e-01  1.63934751e-01\n",
      "   9.03970381e-01 -8.48208300e-02  2.10286785e-01  1.34666838e+00\n",
      "  -2.71507629e-02  2.30525987e-01  1.63907172e+00  4.35674219e-02\n",
      "   2.44237480e-01  1.88449821e+00  8.85098311e-02  1.11440660e-09\n",
      "   1.00000000e+00  3.89646178e-10  1.29012413e-01  1.04213139e+00\n",
      "   1.74196218e-01  1.93455308e-01  6.57356145e-01  3.17517029e-01\n",
      "   2.13244261e-01  4.07684020e-01  3.82551222e-01 -1.47844637e-01\n",
      "   1.01808213e+00  1.03251621e-01  9.30572424e-03  9.36392008e-01\n",
      "   2.60452620e-01  6.40108734e-02  5.94958624e-01  3.36039874e-01\n",
      "   7.62185346e-02  4.08769847e-01  3.59617905e-01 -2.70653389e-01\n",
      "   9.77440365e-01  2.27469305e-01 -1.31600171e-01  9.01252959e-01\n",
      "   2.95844064e-01 -6.01507207e-02  6.31340590e-01  3.32850096e-01\n",
      "  -4.16661194e-02  4.88647299e-01  3.48257346e-01]]\n",
      "[[0.34767465 0.93761524]]\n",
      "[[1, 0.9990406632423401]]\n"
     ]
    }
   ],
   "source": [
    "\n",
    "from normalize_utils import normalize_psar, normalize_lpsar, compute_thumb_angle\n",
    "\n",
    "model = tf.keras.models.load_model('./hand_gesture_model_7.keras')\n",
    "\n",
    "results = []\n",
    "\n",
    "\n",
    "sample = np.load(\"./Data/processed_with_angles/pos_1_data_processed_with_angles.npz\") # Get x, y, z coordinates for each 21 landmark objects\n",
    "data = sample['coords']\n",
    "coordinates = data[1]\n",
    "# Convert to panda\n",
    "coordinates = np.array(coordinates, dtype=np.float64)\n",
    "\n",
    "\n",
    "data = normalize_psar(coordinates)\n",
    "\n",
    "sin, cos = compute_thumb_angle(data)\n",
    "\n",
    "data = data.reshape(1,-1)\n",
    "angles = np.array([sin, cos], dtype=np.float64).reshape(1,2)\n",
    "#data = data.reshape(-1, 3)\n",
    "print(data)\n",
    "print(angles)\n",
    "data = np.concatenate([data, angles], axis=1)\n",
    "\n",
    "\n",
    "# Make predictions and print\n",
    "predictions = model.predict_on_batch(data)\n",
    "predicted_class = int(np.argmax(predictions[0]))\n",
    "confidence = float(predictions[0][predicted_class])\n",
    "results.append([predicted_class, confidence])\n",
    "\n",
    "print(results)\n"
   ]
  },
  {
   "cell_type": "markdown",
   "id": "3b6f9ebb",
   "metadata": {},
   "source": [
    "## Fixing Image Mirroring\n",
    "Because of the multiple failures I have receiving great results in my testing data, I realized I should inspect my data pipeline more closely. It turns out, that when I was using data_collection.py to collect data, I flipped the image AFTER getting collecting the coordinates, but when I actually tested my model, I flipped the image before. This caused all my data I collected to be viewed as a left hand even though I was using my right. So now, I have recollected 400 samples of each class and ensured that the data represents a right hand before being collected. Lets now try training a model."
   ]
  },
  {
   "cell_type": "code",
   "execution_count": 4,
   "id": "a2813bab",
   "metadata": {},
   "outputs": [],
   "source": [
    "files = [ 'pos_0_data_3_processed',\n",
    "         'pos_1_data_3_processed',\n",
    "         'pos_2_data_3_processed',\n",
    "         'pos_3_data_3_processed',\n",
    "         'pos_4_data_3_processed',\n",
    "         'pos_5_data_3_processed',\n",
    "         'pos_6_data_3_processed',\n",
    "         'pos_7_data_3_processed']"
   ]
  },
  {
   "cell_type": "code",
   "execution_count": 7,
   "id": "a7275e31",
   "metadata": {},
   "outputs": [
    {
     "name": "stdout",
     "output_type": "stream",
     "text": [
      "pos_0_data_3_processed length: 400\n",
      "label: 0\n",
      "pos_1_data_3_processed length: 400\n",
      "label: 1\n",
      "pos_2_data_3_processed length: 400\n",
      "label: 2\n",
      "pos_3_data_3_processed length: 400\n",
      "label: 3\n",
      "pos_4_data_3_processed length: 400\n",
      "label: 4\n",
      "pos_5_data_3_processed length: 400\n",
      "label: 5\n",
      "pos_6_data_3_processed length: 400\n",
      "label: 6\n",
      "pos_7_data_3_processed length: 400\n",
      "label: 7\n",
      "X shape: (3200, 65)\n",
      "y shape: (3200,)\n"
     ]
    }
   ],
   "source": [
    "X, y = load_data_with_angles(files)\n",
    "print(f\"X shape: {X.shape}\")\n",
    "print(f\"y shape: {y.shape}\")"
   ]
  },
  {
   "cell_type": "code",
   "execution_count": 8,
   "id": "997664f1",
   "metadata": {},
   "outputs": [
    {
     "name": "stderr",
     "output_type": "stream",
     "text": [
      "c:\\Users\\natec\\anaconda3\\Lib\\site-packages\\keras\\src\\layers\\core\\dense.py:93: UserWarning: Do not pass an `input_shape`/`input_dim` argument to a layer. When using Sequential models, prefer using an `Input(shape)` object as the first layer in the model instead.\n",
      "  super().__init__(activity_regularizer=activity_regularizer, **kwargs)\n"
     ]
    }
   ],
   "source": [
    "# Split Data\n",
    "X_train, X_test, y_train, y_test = train_test_split(X, y, test_size=0.2, random_state=42)\n",
    "model_9 = keras.Sequential([\n",
    "    layers.Dense(64, input_shape=(65,), activation='relu'),\n",
    "    layers.Dropout(0.3),\n",
    "    layers.Dense(32, activation='relu'),\n",
    "    layers.Dropout(0.3),\n",
    "    layers.Dense(8, activation='softmax'),\n",
    "])\n",
    "model_9.compile(\n",
    "    optimizer='adam',\n",
    "    loss='sparse_categorical_crossentropy',\n",
    "    metrics=['accuracy'],\n",
    ")\n",
    "callback = keras.callbacks.EarlyStopping(monitor='val_loss', patience=5, restore_best_weights=True)"
   ]
  },
  {
   "cell_type": "code",
   "execution_count": 9,
   "id": "c532d162",
   "metadata": {},
   "outputs": [
    {
     "name": "stdout",
     "output_type": "stream",
     "text": [
      "Epoch 1/100\n",
      "\u001b[1m64/64\u001b[0m \u001b[32m━━━━━━━━━━━━━━━━━━━━\u001b[0m\u001b[37m\u001b[0m \u001b[1m3s\u001b[0m 8ms/step - accuracy: 0.1630 - loss: 2.1093 - val_accuracy: 0.5469 - val_loss: 1.7340\n",
      "Epoch 2/100\n",
      "\u001b[1m64/64\u001b[0m \u001b[32m━━━━━━━━━━━━━━━━━━━━\u001b[0m\u001b[37m\u001b[0m \u001b[1m0s\u001b[0m 4ms/step - accuracy: 0.4282 - loss: 1.6894 - val_accuracy: 0.6922 - val_loss: 1.1788\n",
      "Epoch 3/100\n",
      "\u001b[1m64/64\u001b[0m \u001b[32m━━━━━━━━━━━━━━━━━━━━\u001b[0m\u001b[37m\u001b[0m \u001b[1m0s\u001b[0m 4ms/step - accuracy: 0.5766 - loss: 1.2289 - val_accuracy: 0.8484 - val_loss: 0.8091\n",
      "Epoch 4/100\n",
      "\u001b[1m64/64\u001b[0m \u001b[32m━━━━━━━━━━━━━━━━━━━━\u001b[0m\u001b[37m\u001b[0m \u001b[1m0s\u001b[0m 4ms/step - accuracy: 0.6625 - loss: 0.9322 - val_accuracy: 0.9000 - val_loss: 0.5881\n",
      "Epoch 5/100\n",
      "\u001b[1m64/64\u001b[0m \u001b[32m━━━━━━━━━━━━━━━━━━━━\u001b[0m\u001b[37m\u001b[0m \u001b[1m0s\u001b[0m 4ms/step - accuracy: 0.7437 - loss: 0.7607 - val_accuracy: 0.9156 - val_loss: 0.4759\n",
      "Epoch 6/100\n",
      "\u001b[1m64/64\u001b[0m \u001b[32m━━━━━━━━━━━━━━━━━━━━\u001b[0m\u001b[37m\u001b[0m \u001b[1m0s\u001b[0m 4ms/step - accuracy: 0.7832 - loss: 0.6329 - val_accuracy: 0.9187 - val_loss: 0.3931\n",
      "Epoch 7/100\n",
      "\u001b[1m64/64\u001b[0m \u001b[32m━━━━━━━━━━━━━━━━━━━━\u001b[0m\u001b[37m\u001b[0m \u001b[1m0s\u001b[0m 4ms/step - accuracy: 0.8294 - loss: 0.5452 - val_accuracy: 0.9453 - val_loss: 0.3265\n",
      "Epoch 8/100\n",
      "\u001b[1m64/64\u001b[0m \u001b[32m━━━━━━━━━━━━━━━━━━━━\u001b[0m\u001b[37m\u001b[0m \u001b[1m0s\u001b[0m 4ms/step - accuracy: 0.8385 - loss: 0.4691 - val_accuracy: 0.9328 - val_loss: 0.2876\n",
      "Epoch 9/100\n",
      "\u001b[1m64/64\u001b[0m \u001b[32m━━━━━━━━━━━━━━━━━━━━\u001b[0m\u001b[37m\u001b[0m \u001b[1m0s\u001b[0m 4ms/step - accuracy: 0.8566 - loss: 0.4341 - val_accuracy: 0.9484 - val_loss: 0.2713\n",
      "Epoch 10/100\n",
      "\u001b[1m64/64\u001b[0m \u001b[32m━━━━━━━━━━━━━━━━━━━━\u001b[0m\u001b[37m\u001b[0m \u001b[1m0s\u001b[0m 4ms/step - accuracy: 0.8702 - loss: 0.3941 - val_accuracy: 0.9328 - val_loss: 0.2374\n",
      "Epoch 11/100\n",
      "\u001b[1m64/64\u001b[0m \u001b[32m━━━━━━━━━━━━━━━━━━━━\u001b[0m\u001b[37m\u001b[0m \u001b[1m0s\u001b[0m 4ms/step - accuracy: 0.8849 - loss: 0.3465 - val_accuracy: 0.9609 - val_loss: 0.1810\n",
      "Epoch 12/100\n",
      "\u001b[1m64/64\u001b[0m \u001b[32m━━━━━━━━━━━━━━━━━━━━\u001b[0m\u001b[37m\u001b[0m \u001b[1m0s\u001b[0m 5ms/step - accuracy: 0.9105 - loss: 0.2957 - val_accuracy: 0.9531 - val_loss: 0.1863\n",
      "Epoch 13/100\n",
      "\u001b[1m64/64\u001b[0m \u001b[32m━━━━━━━━━━━━━━━━━━━━\u001b[0m\u001b[37m\u001b[0m \u001b[1m0s\u001b[0m 4ms/step - accuracy: 0.9136 - loss: 0.2968 - val_accuracy: 0.9672 - val_loss: 0.1628\n",
      "Epoch 14/100\n",
      "\u001b[1m64/64\u001b[0m \u001b[32m━━━━━━━━━━━━━━━━━━━━\u001b[0m\u001b[37m\u001b[0m \u001b[1m0s\u001b[0m 4ms/step - accuracy: 0.9249 - loss: 0.2611 - val_accuracy: 0.9672 - val_loss: 0.1484\n",
      "Epoch 15/100\n",
      "\u001b[1m64/64\u001b[0m \u001b[32m━━━━━━━━━━━━━━━━━━━━\u001b[0m\u001b[37m\u001b[0m \u001b[1m0s\u001b[0m 4ms/step - accuracy: 0.9223 - loss: 0.2550 - val_accuracy: 0.9672 - val_loss: 0.1383\n",
      "Epoch 16/100\n",
      "\u001b[1m64/64\u001b[0m \u001b[32m━━━━━━━━━━━━━━━━━━━━\u001b[0m\u001b[37m\u001b[0m \u001b[1m0s\u001b[0m 4ms/step - accuracy: 0.9286 - loss: 0.2256 - val_accuracy: 0.9672 - val_loss: 0.1304\n",
      "Epoch 17/100\n",
      "\u001b[1m64/64\u001b[0m \u001b[32m━━━━━━━━━━━━━━━━━━━━\u001b[0m\u001b[37m\u001b[0m \u001b[1m0s\u001b[0m 4ms/step - accuracy: 0.9284 - loss: 0.2355 - val_accuracy: 0.9641 - val_loss: 0.1297\n",
      "Epoch 18/100\n",
      "\u001b[1m64/64\u001b[0m \u001b[32m━━━━━━━━━━━━━━━━━━━━\u001b[0m\u001b[37m\u001b[0m \u001b[1m0s\u001b[0m 4ms/step - accuracy: 0.9348 - loss: 0.2048 - val_accuracy: 0.9688 - val_loss: 0.1249\n",
      "Epoch 19/100\n",
      "\u001b[1m64/64\u001b[0m \u001b[32m━━━━━━━━━━━━━━━━━━━━\u001b[0m\u001b[37m\u001b[0m \u001b[1m0s\u001b[0m 4ms/step - accuracy: 0.9410 - loss: 0.1899 - val_accuracy: 0.9672 - val_loss: 0.1322\n",
      "Epoch 20/100\n",
      "\u001b[1m64/64\u001b[0m \u001b[32m━━━━━━━━━━━━━━━━━━━━\u001b[0m\u001b[37m\u001b[0m \u001b[1m0s\u001b[0m 4ms/step - accuracy: 0.9422 - loss: 0.1878 - val_accuracy: 0.9641 - val_loss: 0.1283\n",
      "Epoch 21/100\n",
      "\u001b[1m64/64\u001b[0m \u001b[32m━━━━━━━━━━━━━━━━━━━━\u001b[0m\u001b[37m\u001b[0m \u001b[1m0s\u001b[0m 4ms/step - accuracy: 0.9373 - loss: 0.1942 - val_accuracy: 0.9719 - val_loss: 0.1074\n",
      "Epoch 22/100\n",
      "\u001b[1m64/64\u001b[0m \u001b[32m━━━━━━━━━━━━━━━━━━━━\u001b[0m\u001b[37m\u001b[0m \u001b[1m0s\u001b[0m 4ms/step - accuracy: 0.9523 - loss: 0.1792 - val_accuracy: 0.9719 - val_loss: 0.1091\n",
      "Epoch 23/100\n",
      "\u001b[1m64/64\u001b[0m \u001b[32m━━━━━━━━━━━━━━━━━━━━\u001b[0m\u001b[37m\u001b[0m \u001b[1m0s\u001b[0m 4ms/step - accuracy: 0.9539 - loss: 0.1554 - val_accuracy: 0.9688 - val_loss: 0.1121\n",
      "Epoch 24/100\n",
      "\u001b[1m64/64\u001b[0m \u001b[32m━━━━━━━━━━━━━━━━━━━━\u001b[0m\u001b[37m\u001b[0m \u001b[1m0s\u001b[0m 4ms/step - accuracy: 0.9473 - loss: 0.1790 - val_accuracy: 0.9719 - val_loss: 0.0979\n",
      "Epoch 25/100\n",
      "\u001b[1m64/64\u001b[0m \u001b[32m━━━━━━━━━━━━━━━━━━━━\u001b[0m\u001b[37m\u001b[0m \u001b[1m0s\u001b[0m 4ms/step - accuracy: 0.9560 - loss: 0.1453 - val_accuracy: 0.9734 - val_loss: 0.0970\n",
      "Epoch 26/100\n",
      "\u001b[1m64/64\u001b[0m \u001b[32m━━━━━━━━━━━━━━━━━━━━\u001b[0m\u001b[37m\u001b[0m \u001b[1m0s\u001b[0m 4ms/step - accuracy: 0.9583 - loss: 0.1521 - val_accuracy: 0.9766 - val_loss: 0.0859\n",
      "Epoch 27/100\n",
      "\u001b[1m64/64\u001b[0m \u001b[32m━━━━━━━━━━━━━━━━━━━━\u001b[0m\u001b[37m\u001b[0m \u001b[1m0s\u001b[0m 4ms/step - accuracy: 0.9561 - loss: 0.1654 - val_accuracy: 0.9703 - val_loss: 0.0981\n",
      "Epoch 28/100\n",
      "\u001b[1m64/64\u001b[0m \u001b[32m━━━━━━━━━━━━━━━━━━━━\u001b[0m\u001b[37m\u001b[0m \u001b[1m0s\u001b[0m 4ms/step - accuracy: 0.9536 - loss: 0.1488 - val_accuracy: 0.9828 - val_loss: 0.0844\n",
      "Epoch 29/100\n",
      "\u001b[1m64/64\u001b[0m \u001b[32m━━━━━━━━━━━━━━━━━━━━\u001b[0m\u001b[37m\u001b[0m \u001b[1m0s\u001b[0m 4ms/step - accuracy: 0.9581 - loss: 0.1475 - val_accuracy: 0.9781 - val_loss: 0.1005\n",
      "Epoch 30/100\n",
      "\u001b[1m64/64\u001b[0m \u001b[32m━━━━━━━━━━━━━━━━━━━━\u001b[0m\u001b[37m\u001b[0m \u001b[1m0s\u001b[0m 4ms/step - accuracy: 0.9633 - loss: 0.1352 - val_accuracy: 0.9719 - val_loss: 0.0978\n",
      "Epoch 31/100\n",
      "\u001b[1m64/64\u001b[0m \u001b[32m━━━━━━━━━━━━━━━━━━━━\u001b[0m\u001b[37m\u001b[0m \u001b[1m0s\u001b[0m 4ms/step - accuracy: 0.9644 - loss: 0.1393 - val_accuracy: 0.9750 - val_loss: 0.0958\n",
      "Epoch 32/100\n",
      "\u001b[1m64/64\u001b[0m \u001b[32m━━━━━━━━━━━━━━━━━━━━\u001b[0m\u001b[37m\u001b[0m \u001b[1m0s\u001b[0m 4ms/step - accuracy: 0.9574 - loss: 0.1404 - val_accuracy: 0.9797 - val_loss: 0.0851\n",
      "Epoch 33/100\n",
      "\u001b[1m64/64\u001b[0m \u001b[32m━━━━━━━━━━━━━━━━━━━━\u001b[0m\u001b[37m\u001b[0m \u001b[1m0s\u001b[0m 4ms/step - accuracy: 0.9618 - loss: 0.1238 - val_accuracy: 0.9781 - val_loss: 0.0880\n"
     ]
    },
    {
     "data": {
      "text/plain": [
       "<Axes: title={'center': 'Accuracy'}>"
      ]
     },
     "execution_count": 9,
     "metadata": {},
     "output_type": "execute_result"
    },
    {
     "data": {
      "image/png": "[encoded data removed]",
      "text/plain": [
       "<Figure size 640x480 with 1 Axes>"
      ]
     },
     "metadata": {},
     "output_type": "display_data"
    },
    {
     "data": {
      "image/png": "[encoded data removed]",
      "text/plain": [
       "<Figure size 640x480 with 1 Axes>"
      ]
     },
     "metadata": {},
     "output_type": "display_data"
    }
   ],
   "source": [
    "my_model_9 = model_9.fit(\n",
    "    X_train, y_train,\n",
    "    validation_data = (X_test,y_test),\n",
    "    epochs=100,\n",
    "    batch_size = 40,\n",
    "    callbacks=[callback]\n",
    ")\n",
    "\n",
    "my_model_df = pd.DataFrame(my_model_9.history)\n",
    "my_model_df.loc[:,['loss']].plot(title=\"Cross-entropy\")\n",
    "my_model_df.loc[:,['accuracy']].plot(title=\"Accuracy\")"
   ]
  },
  {
   "cell_type": "code",
   "execution_count": 10,
   "id": "7446c232",
   "metadata": {},
   "outputs": [],
   "source": [
    "model_9.save('hand_gesture_model_9.keras')"
   ]
  },
  {
   "cell_type": "markdown",
   "id": "78386a29",
   "metadata": {},
   "source": [
    "## Results\n",
    "My model worked excellently! Fixing the data pipeline proved to be a huge help in the final model. Also, with feature creation using the thumb angle, the model successfully distinguishes between similar hand gestures!"
   ]
  }
 ],
 "metadata": {
  "kernelspec": {
   "display_name": "base",
   "language": "python",
   "name": "python3"
  },
  "language_info": {
   "codemirror_mode": {
    "name": "ipython",
    "version": 3
   },
   "file_extension": ".py",
   "mimetype": "text/x-python",
   "name": "python",
   "nbconvert_exporter": "python",
   "pygments_lexer": "ipython3",
   "version": "3.12.7"
  }
 },
 "nbformat": 4,
 "nbformat_minor": 5
}
